{
 "cells": [
  {
   "cell_type": "markdown",
   "metadata": {},
   "source": [
    "# 🚀 Introduction to LLMs and LangChain\n",
    "\n",
    "Welcome to this introductory notebook on Large Language Models (LLMs) and LangChain! In this tutorial, we'll explore the basics of working with LLMs using the LangChain framework.\n",
    "\n",
    "## 📚 What we'll cover:\n",
    "1. Basic system testing\n",
    "2. Exploring available LLMs in LangChain\n",
    "3. Setting up and using a Hugging Face model with LangChain\n",
    "4. Creating a simple story generation chain\n",
    "\n",
    "Let's get started! 🎉"
   ]
  },
  {
   "cell_type": "markdown",
   "metadata": {},
   "source": [
    "## 1️⃣ System Testing\n",
    "\n",
    "First, let's make sure our Python environment is working correctly."
   ]
  },
  {
   "cell_type": "code",
   "execution_count": 3,
   "metadata": {},
   "outputs": [
    {
     "name": "stdout",
     "output_type": "stream",
     "text": [
      "Hello World!\n"
     ]
    }
   ],
   "source": [
    "# A simple print statement to test our Python environment\n",
    "print(\"Hello World!\")"
   ]
  },
  {
   "cell_type": "markdown",
   "metadata": {},
   "source": [
    "## 2️⃣ LangChain Testing\n",
    "\n",
    "Now, let's explore what LLMs are available in our LangChain installation."
   ]
  },
  {
   "cell_type": "code",
   "execution_count": 4,
   "metadata": {},
   "outputs": [
    {
     "name": "stdout",
     "output_type": "stream",
     "text": [
      "Any\n",
      "BaseLLM\n",
      "LangChainDeprecationWarning\n"
     ]
    }
   ],
   "source": [
    "from langchain import llms\n",
    "import inspect\n",
    "\n",
    "# Get all classes in the llms module\n",
    "llm_classes = inspect.getmembers(llms, inspect.isclass)\n",
    "\n",
    "# Print the names of the LLM classes\n",
    "for name, _ in llm_classes:\n",
    "    print(name)\n",
    "\n",
    "# Note: The output might not show specific LLMs. This is because LangChain acts as an interface\n",
    "# to various LLMs rather than implementing them directly."
   ]
  },
  {
   "cell_type": "markdown",
   "metadata": {},
   "source": [
    "## 3️⃣ Setting Up a Hugging Face Model\n",
    "\n",
    "Let's set up a small model from Hugging Face to use with LangChain. We'll use the GPT-2 model as an example."
   ]
  },
  {
   "cell_type": "code",
   "execution_count": 5,
   "metadata": {},
   "outputs": [],
   "source": [
    "import torch\n",
    "from transformers import AutoTokenizer, AutoModelForCausalLM, pipeline\n",
    "from langchain.prompts import PromptTemplate\n",
    "from langchain_huggingface import HuggingFacePipeline\n",
    "from langchain.schema import StrOutputParser\n",
    "from langchain.schema.runnable import RunnablePassthrough\n",
    "\n",
    "# Suppressing annoying future warnings\n",
    "import warnings\n",
    "warnings.simplefilter(action='ignore', category=FutureWarning)\n",
    "\n",
    "def setup_huggingface_llm(model_name=\"gpt2\"):\n",
    "    \"\"\"Set up a Hugging Face model for use with LangChain.\"\"\"\n",
    "    # Check if CUDA (GPU) is available\n",
    "    device = \"cuda\" if torch.cuda.is_available() else \"cpu\"\n",
    "    print(f\"Using device: {device}\")\n",
    "\n",
    "    # Load tokenizer and model\n",
    "    tokenizer = AutoTokenizer.from_pretrained(model_name)\n",
    "    model = AutoModelForCausalLM.from_pretrained(model_name).to(device)\n",
    "\n",
    "    # Set pad_token_id to eos_token_id if not set\n",
    "    if tokenizer.pad_token_id is None:\n",
    "        tokenizer.pad_token_id = tokenizer.eos_token_id\n",
    "\n",
    "    # Create a text-generation pipeline\n",
    "    pipe = pipeline(\n",
    "        \"text-generation\",\n",
    "        model=model,\n",
    "        tokenizer=tokenizer,\n",
    "        max_length=100,\n",
    "        temperature=0.7,\n",
    "        top_p=0.95,\n",
    "        repetition_penalty=1.15,\n",
    "        device=0 if device == \"cuda\" else -1,  # Use GPU if available\n",
    "        truncation=True,\n",
    "        clean_up_tokenization_spaces=False\n",
    "    )\n",
    "\n",
    "    # Create LangChain LLM\n",
    "    return HuggingFacePipeline(pipeline=pipe)"
   ]
  },
  {
   "cell_type": "markdown",
   "metadata": {},
   "source": [
    "Now that we've set up our model, let's use it to generate some text! \n",
    "\n",
    "Note that this direct approach to generating text is relatively simple. In the next section, we'll explore a more sophisticated method using LangChain's pipeline/chain structure, which offers greater flexibility and control over the generation process."
   ]
  },
  {
   "cell_type": "code",
   "execution_count": 6,
   "metadata": {},
   "outputs": [
    {
     "name": "stdout",
     "output_type": "stream",
     "text": [
      "Using device: cuda\n",
      "Prompt: Once upon a time, in a land far away,\n",
      "Response: Once upon a time, in a land far away, there existed an army of men who were called the Romans. The troops that had been sent to fight against them are said by those people to have fallen into their hands; for they say:\n",
      "\"And when we heard about these things our hearts began to tremble and trembling.\" (Romans 1).\n",
      "\n",
      "- A great many Christians believe this statement is true on several grounds as well! As stated above, God's Commandment 13 says it\n"
     ]
    }
   ],
   "source": [
    "# Set up the LLM\n",
    "llm = setup_huggingface_llm()\n",
    "\n",
    "# Use the LLM to generate text\n",
    "prompt = \"Once upon a time, in a land far away,\"\n",
    "response = llm.invoke(prompt)\n",
    "\n",
    "print(f\"Prompt: {prompt}\")\n",
    "print(f\"Response: {response}\")\n",
    "\n",
    "# Note: The generated text might not always make perfect sense, especially with smaller models like GPT-2."
   ]
  },
  {
   "cell_type": "markdown",
   "metadata": {},
   "source": [
    "## 4️⃣ Creating a Story Generation Chain\n",
    "\n",
    "Now, let's use LangChain to create a simple chain for story generation. This demonstrates how we can combine prompts and models in a more structured way."
   ]
  },
  {
   "cell_type": "code",
   "execution_count": 7,
   "metadata": {},
   "outputs": [
    {
     "name": "stdout",
     "output_type": "stream",
     "text": [
      "Using device: cuda\n",
      "\n",
      "Generated Story:\n",
      "Complete the following story:\n",
      "\n",
      "Once upon a time, in a forest filled with magical creatures,\n",
      "The rest of the story:\n",
      ". . .\"- The next morning he woke up and found his father had been dead for nearly an hour now. He hadn't even seen him when she'd called out to see if anything was wrong or what it meant…but her voice didn`t sound like one that would make anyone doubt their sanity anymore than before.\"-\"I don´m sure there\n"
     ]
    }
   ],
   "source": [
    "# Set up the LLM\n",
    "llm = setup_huggingface_llm()\n",
    "\n",
    "# Define a template for our story prompt\n",
    "template = \"\"\"Complete the following story:\n",
    "\n",
    "{story_start}\n",
    "The rest of the story:\n",
    "\"\"\"\n",
    "\n",
    "prompt = PromptTemplate(template=template, input_variables=[\"story_start\"])\n",
    "\n",
    "# Create a chain using the new LangChain method\n",
    "chain = (\n",
    "    {\"story_start\": RunnablePassthrough()}\n",
    "    | prompt\n",
    "    | llm\n",
    "    | StrOutputParser()\n",
    ")\n",
    "\n",
    "# Run the chain to generate a story\n",
    "result = chain.invoke(\"Once upon a time, in a forest filled with magical creatures,\")\n",
    "print(\"\\nGenerated Story:\")\n",
    "print(result)\n",
    "\n",
    "# Note: The generated story might be short or incomplete due to the model's limitations."
   ]
  },
  {
   "attachments": {
    "image.png": {
     "image/png": "[encoded data removed]"
    }
   },
   "cell_type": "markdown",
   "metadata": {},
   "source": [
    "## 5️⃣ Creating a Nicer User Interface with Gradio\n",
    "\n",
    "Now, let's use a clean UI to interact with our language chain. We will use Gradio, which is the fastest way to demo your machine learning model with a friendly web interface so that anyone can use it, anywhere!\n",
    "Gradio will create a URL like http://127.0.0.1:7863 to access the interface. However, since the code is running on a remote server, this URL is not directly accessible from our local computer. To make it accessible, we need to enable port forwarding.\n",
    "\n",
    "*Follow these steps to access the interface from your web browser:*\n",
    "1. Go to the \"PORTS\" tab at the bottom of VS Code.\n",
    "2. Input the port number (in this case, 7863).\n",
    "3. Click on the browser icon. You will see the interface.\n",
    "\n",
    "Check out the image for a visual guide:\n",
    "    ![image.png](attachment:image.png)\n",
    "\n",
    "\n",
    "*For those who prefer a command-line option:*\n",
    "1. Open a new terminal or command prompt window on your local computer.\n",
    "2. Enter the following command to forward the remote port to a local port:\n",
    "`ssh -L local_port:127.0.0.1:remote_port -J username@ssh.ist.psu.edu username@i4-cs-gpu01.ist.psu.edu` \n",
    "For example, if Gradio is running on 7863 port, my command looks this: `ssh -L 7863:localhost:7863 -J skb5969@ssh.ist.psu.edu skb5969@i4-cs-gpu01.ist.psu.edu`\n",
    "3. Open your browser, create a new tab, and enter http://127.0.0.1:port (in this case, http://127.0.0.1:7863). You will see the interface."
   ]
  },
  {
   "cell_type": "code",
   "execution_count": 8,
   "metadata": {},
   "outputs": [
    {
     "name": "stdout",
     "output_type": "stream",
     "text": [
      "Running on local URL:  http://127.0.0.1:7860\n",
      "\n",
      "To create a public link, set `share=True` in `launch()`.\n"
     ]
    },
    {
     "data": {
      "text/html": [
       "<div><iframe src=\"http://127.0.0.1:7860/\" width=\"100%\" height=\"500\" allow=\"autoplay; camera; microphone; clipboard-read; clipboard-write;\" frameborder=\"0\" allowfullscreen></iframe></div>"
      ],
      "text/plain": [
       "<IPython.core.display.HTML object>"
      ]
     },
     "metadata": {},
     "output_type": "display_data"
    },
    {
     "data": {
      "text/plain": []
     },
     "execution_count": 8,
     "metadata": {},
     "output_type": "execute_result"
    }
   ],
   "source": [
    "import gradio as gr\n",
    "\n",
    "def generate_story(story_start):\n",
    "    \"\"\"Generate a story based on the given start.\"\"\"\n",
    "    return chain.invoke(story_start)\n",
    "\n",
    "# Create Gradio interface\n",
    "ui = gr.Interface(\n",
    "    fn=generate_story,\n",
    "    inputs=gr.Textbox(lines=2, placeholder=\"Enter the start of your story here...\"),\n",
    "    outputs=\"text\",\n",
    "    title=\"LangChain Story Generator\",\n",
    "    description=\"Enter the beginning of a story, and the AI will complete it for you!\",\n",
    "    examples=[\n",
    "        [\"Once upon a time, in a magical forest,\"],\n",
    "        [\"In a galaxy far, far away,\"],\n",
    "        [\"On a dark and stormy night,\"]\n",
    "    ]\n",
    ")\n",
    "\n",
    "# Launch the interface\n",
    "ui.launch()"
   ]
  },
  {
   "cell_type": "markdown",
   "metadata": {},
   "source": [
    "## 🎓 Conclusion\n",
    "\n",
    "Congratulations! You've just taken your first steps into the world of ChatBots using LLMs, LangChain, and Gradio. Here's what we've covered:\n",
    "\n",
    "1. We verified our Python environment.\n",
    "2. We explored the LLMs available in our LangChain installation.\n",
    "3. We set up a Hugging Face model (GPT-2) to use with LangChain.\n",
    "4. We used the model to generate text directly and as part of a story generation chain.\n",
    "5. We used a nicer interface to interact with the model.\n",
    "\n",
    "Remember, this is just the beginning! LangChain offers many more features and possibilities for working with LLMs. As you continue your journey, you'll discover how to create more complex chains, use different models, and build sophisticated AI applications.\n",
    "\n",
    "Happy coding! 🚀🐍"
   ]
  }
 ],
 "metadata": {
  "kernelspec": {
   "display_name": "Python 3",
   "language": "python",
   "name": "python3"
  },
  "language_info": {
   "codemirror_mode": {
    "name": "ipython",
    "version": 3
   },
   "file_extension": ".py",
   "mimetype": "text/x-python",
   "name": "python",
   "nbconvert_exporter": "python",
   "pygments_lexer": "ipython3",
   "version": "3.11.0"
  }
 },
 "nbformat": 4,
 "nbformat_minor": 2
}
