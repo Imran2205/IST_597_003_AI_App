{
 "cells": [
  {
   "cell_type": "markdown",
   "id": "01c3ca2b-b15d-44d6-ab25-8d0a91496421",
   "metadata": {},
   "source": [
    "# 🚀 Advanced LLM Integration with LangChain and Gradio\n",
    "\n",
    "Welcome to this advanced notebook on integrating Large Language Models (LLMs) with LangChain and Gradio! In this tutorial, we'll explore how to create a sophisticated chatbot that can scrape Wikipedia, use vector stores for information retrieval, and provide a user-friendly interface.\n",
    "\n",
    "## 🚀 What we'll cover:\n",
    "\n",
    "1. Setting up a custom LLM\n",
    "2. Creating a conversation chain with memory\n",
    "3. Implementing Wikipedia scraping and information extraction\n",
    "4. Using FAISS for vector storage and retrieval\n",
    "5. Building a Gradio interface for user interaction\n",
    "\n",
    "Let's get started! 🚀\n",
    "\n",
    "## 1️⃣ Setting up the Environment\n",
    "\n",
    "First, let's import the necessary libraries and set up logging."
   ]
  },
  {
   "cell_type": "code",
   "execution_count": 1,
   "id": "6fa1bd00-8191-454f-aa1d-f4266089f398",
   "metadata": {},
   "outputs": [
    {
     "name": "stderr",
     "output_type": "stream",
     "text": [
      "USER_AGENT environment variable not set, consider setting it to identify your requests.\n"
     ]
    }
   ],
   "source": [
    "import gradio as gr\n",
    "from langchain.llms.base import LLM\n",
    "from langchain.callbacks.manager import CallbackManagerForLLMRun\n",
    "from langchain.memory import ConversationBufferWindowMemory\n",
    "from langchain.chains import ConversationChain\n",
    "from langchain_community.document_loaders import WebBaseLoader\n",
    "from langchain.text_splitter import RecursiveCharacterTextSplitter\n",
    "from langchain.embeddings import HuggingFaceEmbeddings\n",
    "from langchain.vectorstores import FAISS\n",
    "from langchain.chains.question_answering import load_qa_chain\n",
    "from langchain.docstore.document import Document\n",
    "import requests\n",
    "import json\n",
    "import logging\n",
    "import re\n",
    "from urllib.parse import urlparse\n",
    "from bs4 import BeautifulSoup\n",
    "\n",
    "# Set up logging\n",
    "logging.basicConfig(level=logging.INFO)\n",
    "logger = logging.getLogger(__name__)"
   ]
  },
  {
   "cell_type": "markdown",
   "id": "4b37970e-1541-4bb5-b826-dbfeccf4d2b2",
   "metadata": {},
   "source": [
    "## 2️⃣ Creating a Custom LLM\n",
    "\n",
    "Now, let's create a custom LLM class that interacts with an API."
   ]
  },
  {
   "cell_type": "code",
   "execution_count": 2,
   "id": "9157a57e-d6c6-4596-8516-037726192176",
   "metadata": {},
   "outputs": [],
   "source": [
    "class CustomLLM(LLM):\n",
    "    api_url: str = \"http://127.0.0.1:8899/v1/completions\"\n",
    "\n",
    "    def _call(\n",
    "        self,\n",
    "        prompt,\n",
    "        stop = None,\n",
    "        run_manager = None,\n",
    "    ):\n",
    "        headers = {\n",
    "            \"Content-Type\": \"application/json\"\n",
    "        }\n",
    "        data = {\n",
    "            \"prompt\": prompt + \"\\nAnswer:\",\n",
    "            \"max_tokens\": 250,\n",
    "            \"temperature\": 0.7,\n",
    "            \"top_p\": 1.0,\n",
    "            \"n\": 1,\n",
    "            \"stop\": stop or [\"Human:\", \"\\n\\n\"]\n",
    "        }\n",
    "        try:\n",
    "            logger.info(f\"Sending prompt to API: {prompt}\")\n",
    "            response = requests.post(self.api_url, headers=headers, data=json.dumps(data))\n",
    "            response.raise_for_status()\n",
    "            result = response.json()['choices'][0]['text']\n",
    "            logger.info(f\"Received response from API: {result}\")\n",
    "            return result.strip()\n",
    "        except requests.exceptions.RequestException as e:\n",
    "            logger.error(f\"API request failed: {str(e)}\")\n",
    "            return f\"Sorry, I encountered an error: {str(e)}\"\n",
    "\n",
    "    @property\n",
    "    def _llm_type(self):\n",
    "        return \"custom\"\n",
    "\n",
    "# Initialize the custom LLM\n",
    "llm = CustomLLM()"
   ]
  },
  {
   "cell_type": "markdown",
   "id": "206f5f6e-bf32-4b0b-97fe-f2073a746e62",
   "metadata": {},
   "source": [
    "## 3️⃣ Setting up Conversation Chain and Vector Store\n",
    "\n",
    "Let's set up a conversation chain with memory and initialize our vector store.\n",
    "\n"
   ]
  },
  {
   "cell_type": "code",
   "execution_count": 3,
   "id": "4438c6df-c1ed-4e53-8d57-0865be706d3d",
   "metadata": {},
   "outputs": [
    {
     "name": "stderr",
     "output_type": "stream",
     "text": [
      "/tmp/ipykernel_2165284/2729524625.py:2: LangChainDeprecationWarning: The class `ConversationChain` was deprecated in LangChain 0.2.7 and will be removed in 1.0. Use RunnableWithMessageHistory: https://python.langchain.com/v0.2/api_reference/core/runnables/langchain_core.runnables.history.RunnableWithMessageHistory.html instead.\n",
      "  conversation = ConversationChain(\n",
      "/tmp/ipykernel_2165284/2729524625.py:8: LangChainDeprecationWarning: The class `HuggingFaceEmbeddings` was deprecated in LangChain 0.2.2 and will be removed in 1.0. An updated version of the class exists in the langchain-huggingface package and should be used instead. To use it run `pip install -U langchain-huggingface` and import as `from langchain_huggingface import HuggingFaceEmbeddings`.\n",
      "  embeddings = HuggingFaceEmbeddings()\n",
      "INFO:sentence_transformers.SentenceTransformer:Use pytorch device_name: cuda\n",
      "INFO:sentence_transformers.SentenceTransformer:Load pretrained SentenceTransformer: sentence-transformers/all-mpnet-base-v2\n",
      "/data/shared/.anaconda/anaconda3/envs/venv311/lib/python3.11/site-packages/transformers/tokenization_utils_base.py:1601: FutureWarning: `clean_up_tokenization_spaces` was not set. It will be set to `True` by default. This behavior will be depracted in transformers v4.45, and will be then set to `False` by default. For more details check this issue: https://github.com/huggingface/transformers/issues/31884\n",
      "  warnings.warn(\n"
     ]
    }
   ],
   "source": [
    "# Initialize the conversation chain with a window memory\n",
    "conversation = ConversationChain(\n",
    "    llm=llm,\n",
    "    memory=ConversationBufferWindowMemory(k=3, return_messages=True)\n",
    ")\n",
    "\n",
    "# Initialize embeddings\n",
    "embeddings = HuggingFaceEmbeddings(model_kwargs={\"device\": 1})\n",
    "\n",
    "# Initialize FAISS vector store\n",
    "vector_store = None"
   ]
  },
  {
   "cell_type": "markdown",
   "id": "efc28cc4-f995-40c3-8582-1f204bf60500",
   "metadata": {},
   "source": [
    "## 4️⃣ Implementing Wikipedia Scraping and Information Extraction\n",
    "\n",
    "Now, let's create functions to scrape Wikipedia and extract information."
   ]
  },
  {
   "cell_type": "code",
   "execution_count": 4,
   "id": "4d947f19-f6bc-4061-aa31-8404a636a6d2",
   "metadata": {},
   "outputs": [],
   "source": [
    "def simple_extract(content):\n",
    "    prompt = f\"\"\"\n",
    "    Summarize the following Wikipedia content in a few sentences:\n",
    "\n",
    "    {content[:1000]}  # Limited to 1000 characters\n",
    "\n",
    "    Summary:\n",
    "    \"\"\"\n",
    "    \n",
    "    response = llm(prompt)\n",
    "    logger.info(f\"Extraction response: {response}\")\n",
    "    return response\n",
    "\n",
    "def scrape_wikipedia(url):\n",
    "    global vector_store\n",
    "    try:\n",
    "        # Validate URL\n",
    "        result = urlparse(url)\n",
    "        if not all([result.scheme, result.netloc]) or \"wikipedia.org\" not in result.netloc:\n",
    "            return \"Invalid URL. Please provide a complete Wikipedia URL.\"\n",
    "\n",
    "        # Load web content\n",
    "        response = requests.get(url)\n",
    "        soup = BeautifulSoup(response.content, 'html.parser')\n",
    "\n",
    "        # Find the main content div\n",
    "        content_div = soup.find('div', {'id': 'mw-content-text'})\n",
    "\n",
    "        # Extract title\n",
    "        title = soup.find('h1', {'id': 'firstHeading'}).text\n",
    "\n",
    "        # Extract content\n",
    "        content = []\n",
    "        if content_div:\n",
    "            for elem in content_div.find_all(['p', 'h2', 'h3']):\n",
    "                if elem.name == 'p':\n",
    "                    content.append(elem.text)\n",
    "                elif elem.name in ['h2', 'h3']:\n",
    "                    content.append(f\"\\n\\n{elem.text}\\n\")\n",
    "\n",
    "        full_content = f\"{title}\\n\\n{''.join(content)}\"\n",
    "        logger.info(f\"Scraped content (first 1000 chars): {full_content[:1000]}\")\n",
    "\n",
    "        # Extract content with simple function\n",
    "        extracted_content = simple_extract(full_content)\n",
    "        logger.info(f\"Extracted content: {extracted_content}\")\n",
    "\n",
    "        # Create or update the vector store\n",
    "        if vector_store is None:\n",
    "            vector_store = FAISS.from_texts([extracted_content], embeddings)\n",
    "        else:\n",
    "            vector_store.add_texts([extracted_content])\n",
    "        \n",
    "        return f\"Successfully scraped and extracted information from: {url}\"\n",
    "    except Exception as e:\n",
    "        logger.error(f\"Error scraping Wikipedia: {str(e)}\")\n",
    "        return f\"Error scraping Wikipedia: {str(e)}\""
   ]
  },
  {
   "cell_type": "markdown",
   "id": "f2b74841-8222-40c3-b0df-16adaae8e81e",
   "metadata": {},
   "source": [
    "## 5️⃣ Implementing Vector Store Querying\n",
    "\n",
    "Let's create a function to query our vector store."
   ]
  },
  {
   "cell_type": "code",
   "execution_count": 5,
   "id": "9bfa6715-3400-422d-9168-7814b40ab858",
   "metadata": {},
   "outputs": [],
   "source": [
    "def query_vector_store(query):\n",
    "    if vector_store is None:\n",
    "        return \"No information has been scraped yet. Please provide a Wikipedia URL to scrape first.\"\n",
    "    \n",
    "    try:\n",
    "        docs = vector_store.similarity_search(query, k=1)\n",
    "        logger.info(f\"Retrieved {len(docs)} documents from vector store\")\n",
    "        for i, doc in enumerate(docs):\n",
    "            logger.info(f\"Document {i + 1} content: {doc.page_content[:100]}...\")  # Log first 100 chars of each document\n",
    "        \n",
    "        chain = load_qa_chain(llm, chain_type=\"stuff\")\n",
    "        response = chain.run(input_documents=docs, question=query)\n",
    "        \n",
    "        logger.info(f\"Generated response: {response}\")\n",
    "        \n",
    "        if not response.strip():\n",
    "            return \"I apologize, but I couldn't generate a response based on the scraped information. Please try rephrasing your question.\"\n",
    "        \n",
    "        return response\n",
    "    except Exception as e:\n",
    "        logger.error(f\"Error querying vector store: {str(e)}\")\n",
    "        return f\"Error querying information: {str(e)}\""
   ]
  },
  {
   "cell_type": "markdown",
   "id": "018e4e0c-18f2-4319-9ee2-6803d77c7f2d",
   "metadata": {},
   "source": [
    "## 6️⃣ Creating the Chat Function\n",
    "\n",
    "Now, let's create the main chat function that will handle user inputs."
   ]
  },
  {
   "cell_type": "code",
   "execution_count": 6,
   "id": "f68b8b26-5365-4e63-9db9-f79a8df77076",
   "metadata": {},
   "outputs": [],
   "source": [
    "def chat(message, history):\n",
    "    try:\n",
    "        if message.lower().startswith(\"scrape:\"):\n",
    "            url = message[7:].strip()\n",
    "            return scrape_wikipedia(url)\n",
    "        elif vector_store is not None:\n",
    "            return query_vector_store(message)\n",
    "        else:\n",
    "            full_response = conversation.predict(input=message)\n",
    "            if not full_response.strip():\n",
    "                return \"I apologize, but I couldn't generate a response. Please try asking your question again.\"\n",
    "            conversation.memory.chat_memory.add_user_message(message)\n",
    "            conversation.memory.chat_memory.add_ai_message(full_response)\n",
    "            return full_response\n",
    "    except Exception as e:\n",
    "        logger.error(f\"An error occurred during chat: {str(e)}\")\n",
    "        return f\"I apologize, but I encountered an error: {str(e)}. Please try again or rephrase your message.\"\n"
   ]
  },
  {
   "attachments": {
    "9c74e360-494a-45ac-9d82-0efe8dd910fe.png": {
     "image/png": "[encoded data removed]"
    }
   },
   "cell_type": "markdown",
   "id": "dcce1557-263a-4e5a-9802-4cdfafbb9f74",
   "metadata": {},
   "source": [
    "## 7️⃣ Setting up the Gradio Interface\n",
    "\n",
    "Finally, let's create a user-friendly interface using Gradio.\n",
    "\n",
    "Gradio will create a URL like http://127.0.0.1:7861 to access the interface. However, since the code is running on a remote server, this URL is not directly accessible from our local computer. To make it accessible, we need to enable port forwarding.\n",
    "\n",
    "*Follow these steps to access the interface from your web browser:*\n",
    "1. Go to the \"PORTS\" tab at the bottom of VS Code.\n",
    "2. Input the port number (in this case, 7863).\n",
    "3. Click on the browser icon. You will see the interface.\n",
    "\n",
    "Check out the image for a visual guide:\n",
    "    ![download.png](attachment:9c74e360-494a-45ac-9d82-0efe8dd910fe.png)\n",
    "*For those who prefer a command-line option:*\n",
    "1. Open a new terminal or command prompt window on your local computer.\n",
    "2. Enter the following command to forward the remote port to a local port:\n",
    "`ssh -L local_port:127.0.0.1:remote_port -J username@ssh.ist.psu.edu username@i4-cs-gpu01.ist.psu.edu` \n",
    "For example, if Gradio is running on 7863 port, my command looks this: `ssh -L 7861:localhost:7861 -J skb5969@ssh.ist.psu.edu skb5969@i4-cs-gpu01.ist.psu.edu`\n",
    "3. Open your browser, create a new tab, and enter http://127.0.0.1:port (in this case, http://127.0.0.1:7861). You will see the interface."
   ]
  },
  {
   "cell_type": "code",
   "execution_count": 7,
   "id": "d54fff27-8b1e-48ae-b78f-0a611af7ecc9",
   "metadata": {},
   "outputs": [
    {
     "name": "stderr",
     "output_type": "stream",
     "text": [
      "INFO:httpx:HTTP Request: GET https://checkip.amazonaws.com/ \"HTTP/1.1 200 \"\n",
      "INFO:httpx:HTTP Request: GET https://api.gradio.app/pkg-version \"HTTP/1.1 200 OK\"\n",
      "INFO:httpx:HTTP Request: GET http://127.0.0.1:7861/startup-events \"HTTP/1.1 200 OK\"\n"
     ]
    },
    {
     "name": "stdout",
     "output_type": "stream",
     "text": [
      "Running on local URL:  http://127.0.0.1:7861\n"
     ]
    },
    {
     "name": "stderr",
     "output_type": "stream",
     "text": [
      "INFO:httpx:HTTP Request: HEAD http://127.0.0.1:7861/ \"HTTP/1.1 200 OK\"\n"
     ]
    },
    {
     "name": "stdout",
     "output_type": "stream",
     "text": [
      "\n",
      "To create a public link, set `share=True` in `launch()`.\n"
     ]
    },
    {
     "data": {
      "text/html": [
       "<div><iframe src=\"http://127.0.0.1:7861/\" width=\"100%\" height=\"500\" allow=\"autoplay; camera; microphone; clipboard-read; clipboard-write;\" frameborder=\"0\" allowfullscreen></iframe></div>"
      ],
      "text/plain": [
       "<IPython.core.display.HTML object>"
      ]
     },
     "metadata": {},
     "output_type": "display_data"
    },
    {
     "data": {
      "text/plain": []
     },
     "execution_count": 7,
     "metadata": {},
     "output_type": "execute_result"
    },
    {
     "name": "stderr",
     "output_type": "stream",
     "text": [
      "INFO:__main__:Scraped content (first 1000 chars): Gradient descent\n",
      "\n",
      "Gradient descent is a method for unconstrained mathematical optimization. It is a first-order iterative algorithm for minimizing a differentiable multivariate function.\n",
      "The idea is to take repeated steps in the opposite direction of the gradient (or approximate gradient) of the function at the current point, because this is the direction of steepest descent. Conversely, stepping in the direction of the gradient will lead to a trajectory that maximizes that function; the procedure is then known as gradient ascent.\n",
      "It is particularly useful in machine learning for minimizing the cost or loss function.[1] Gradient descent should not be confused with local search algorithms, although both are iterative methods for optimization.\n",
      "Gradient descent is generally attributed to Augustin-Louis Cauchy, who first suggested it in 1847.[2] Jacques Hadamard independently proposed a similar method in 1907.[3][4] Its convergence properties for non-linear optimization problems were first\n",
      "/tmp/ipykernel_2165284/2793581748.py:10: LangChainDeprecationWarning: The method `BaseLLM.__call__` was deprecated in langchain-core 0.1.7 and will be removed in 1.0. Use invoke instead.\n",
      "  response = llm(prompt)\n",
      "INFO:__main__:Sending prompt to API: \n",
      "    Summarize the following Wikipedia content in a few sentences:\n",
      "\n",
      "    Gradient descent\n",
      "\n",
      "Gradient descent is a method for unconstrained mathematical optimization. It is a first-order iterative algorithm for minimizing a differentiable multivariate function.\n",
      "The idea is to take repeated steps in the opposite direction of the gradient (or approximate gradient) of the function at the current point, because this is the direction of steepest descent. Conversely, stepping in the direction of the gradient will lead to a trajectory that maximizes that function; the procedure is then known as gradient ascent.\n",
      "It is particularly useful in machine learning for minimizing the cost or loss function.[1] Gradient descent should not be confused with local search algorithms, although both are iterative methods for optimization.\n",
      "Gradient descent is generally attributed to Augustin-Louis Cauchy, who first suggested it in 1847.[2] Jacques Hadamard independently proposed a similar method in 1907.[3][4] Its convergence properties for non-linear optimization problems were first  # Limited to 1000 characters\n",
      "\n",
      "    Summary:\n",
      "    \n",
      "INFO:__main__:Received response from API:  Gradient descent is an iterative optimization algorithm used to find the local minimum of a differentiable function. By taking steps in the opposite direction of the gradient, it moves towards the function's minimum. Initially attributed to Cauchy and independently proposed by Hadamard, this method is widely applied in machine learning to minimize loss functions. Unlike local search algorithms, gradient descent uses the function's gradient to determine the step direction. \n",
      "INFO:__main__:Extraction response: Gradient descent is an iterative optimization algorithm used to find the local minimum of a differentiable function. By taking steps in the opposite direction of the gradient, it moves towards the function's minimum. Initially attributed to Cauchy and independently proposed by Hadamard, this method is widely applied in machine learning to minimize loss functions. Unlike local search algorithms, gradient descent uses the function's gradient to determine the step direction.\n",
      "INFO:__main__:Extracted content: Gradient descent is an iterative optimization algorithm used to find the local minimum of a differentiable function. By taking steps in the opposite direction of the gradient, it moves towards the function's minimum. Initially attributed to Cauchy and independently proposed by Hadamard, this method is widely applied in machine learning to minimize loss functions. Unlike local search algorithms, gradient descent uses the function's gradient to determine the step direction.\n",
      "INFO:faiss.loader:Loading faiss.\n",
      "INFO:faiss.loader:Successfully loaded faiss.\n",
      "INFO:__main__:Retrieved 1 documents from vector store\n",
      "INFO:__main__:Document 1 content: Gradient descent is an iterative optimization algorithm used to find the local minimum of a differen...\n",
      "/tmp/ipykernel_2165284/3923004307.py:11: LangChainDeprecationWarning: This class is deprecated. See the following migration guides for replacements based on `chain_type`:\n",
      "stuff: https://python.langchain.com/v0.2/docs/versions/migrating_chains/stuff_docs_chain\n",
      "map_reduce: https://python.langchain.com/v0.2/docs/versions/migrating_chains/map_reduce_chain\n",
      "refine: https://python.langchain.com/v0.2/docs/versions/migrating_chains/refine_chain\n",
      "map_rerank: https://python.langchain.com/v0.2/docs/versions/migrating_chains/map_rerank_docs_chain\n",
      "\n",
      "See also guides on retrieval and question-answering here: https://python.langchain.com/v0.2/docs/how_to/#qa-with-rag\n",
      "  chain = load_qa_chain(llm, chain_type=\"stuff\")\n",
      "/tmp/ipykernel_2165284/3923004307.py:12: LangChainDeprecationWarning: The method `Chain.run` was deprecated in langchain 0.1.0 and will be removed in 1.0. Use invoke instead.\n",
      "  response = chain.run(input_documents=docs, question=query)\n",
      "INFO:__main__:Sending prompt to API: Use the following pieces of context to answer the question at the end. If you don't know the answer, just say that you don't know, don't try to make up an answer.\n",
      "\n",
      "Gradient descent is an iterative optimization algorithm used to find the local minimum of a differentiable function. By taking steps in the opposite direction of the gradient, it moves towards the function's minimum. Initially attributed to Cauchy and independently proposed by Hadamard, this method is widely applied in machine learning to minimize loss functions. Unlike local search algorithms, gradient descent uses the function's gradient to determine the step direction.\n",
      "\n",
      "Question: Who invented gradient descent?\n",
      "Helpful Answer:\n",
      "INFO:__main__:Received response from API:  Gradient descent was independently proposed by Cauchy and Hadamard.\n",
      "INFO:__main__:Generated response: Gradient descent was independently proposed by Cauchy and Hadamard.\n",
      "INFO:__main__:Retrieved 1 documents from vector store\n",
      "INFO:__main__:Document 1 content: Gradient descent is an iterative optimization algorithm used to find the local minimum of a differen...\n",
      "INFO:__main__:Sending prompt to API: Use the following pieces of context to answer the question at the end. If you don't know the answer, just say that you don't know, don't try to make up an answer.\n",
      "\n",
      "Gradient descent is an iterative optimization algorithm used to find the local minimum of a differentiable function. By taking steps in the opposite direction of the gradient, it moves towards the function's minimum. Initially attributed to Cauchy and independently proposed by Hadamard, this method is widely applied in machine learning to minimize loss functions. Unlike local search algorithms, gradient descent uses the function's gradient to determine the step direction.\n",
      "\n",
      "Question: In which year?\n",
      "Helpful Answer:\n",
      "INFO:__main__:Received response from API:  1847\n",
      "INFO:__main__:Generated response: 1847\n",
      "INFO:__main__:Retrieved 1 documents from vector store\n",
      "INFO:__main__:Document 1 content: Gradient descent is an iterative optimization algorithm used to find the local minimum of a differen...\n",
      "INFO:__main__:Sending prompt to API: Use the following pieces of context to answer the question at the end. If you don't know the answer, just say that you don't know, don't try to make up an answer.\n",
      "\n",
      "Gradient descent is an iterative optimization algorithm used to find the local minimum of a differentiable function. By taking steps in the opposite direction of the gradient, it moves towards the function's minimum. Initially attributed to Cauchy and independently proposed by Hadamard, this method is widely applied in machine learning to minimize loss functions. Unlike local search algorithms, gradient descent uses the function's gradient to determine the step direction.\n",
      "\n",
      "Question: What is the definition?\n",
      "Helpful Answer:\n",
      "INFO:__main__:Received response from API:  Gradient descent is an optimization algorithm that iteratively moves towards the local minimum of a function by taking steps opposite to the gradient of the function.\n",
      "INFO:__main__:Generated response: Gradient descent is an optimization algorithm that iteratively moves towards the local minimum of a function by taking steps opposite to the gradient of the function.\n"
     ]
    }
   ],
   "source": [
    "# Custom CSS for full height\n",
    "custom_css = \"\"\"\n",
    "#chatbot-container {\n",
    "    height: calc(100vh - 230px) !important;\n",
    "    overflow-y: auto;\n",
    "}\n",
    "#input-container {\n",
    "    position: fixed;\n",
    "    bottom: 0;\n",
    "    left: 0;\n",
    "    right: 0;\n",
    "    padding: 20px;\n",
    "    background-color: white;\n",
    "    border-top: 1px solid #ccc;\n",
    "}\n",
    "\"\"\"\n",
    "\n",
    "# Create the Gradio interface\n",
    "with gr.Blocks(css=custom_css) as gr_iface:\n",
    "    with gr.Column():\n",
    "        chatbot = gr.Chatbot(elem_id=\"chatbot-container\")\n",
    "        with gr.Row(elem_id=\"input-container\"):\n",
    "            msg = gr.Textbox(\n",
    "                show_label=False,\n",
    "                placeholder=\"Type your message here... (Start with 'scrape:' to add a Wikipedia URL)\",\n",
    "                container=False\n",
    "            )\n",
    "            send = gr.Button(\"Send\")\n",
    "        clear = gr.Button(\"Clear\")\n",
    "\n",
    "    def user(user_message, history):\n",
    "        return \"\", history + [[user_message, None]]\n",
    "\n",
    "    def bot(history):\n",
    "        user_message = history[-1][0]\n",
    "        bot_message = chat(user_message, history[:-1])\n",
    "        history[-1][1] = bot_message\n",
    "        return history\n",
    "\n",
    "    msg.submit(user, [msg, chatbot], [msg, chatbot], queue=False).then(\n",
    "        bot, chatbot, chatbot\n",
    "    )\n",
    "    send.click(user, [msg, chatbot], [msg, chatbot], queue=False).then(\n",
    "        bot, chatbot, chatbot\n",
    "    )\n",
    "    clear.click(lambda: None, None, chatbot, queue=False)\n",
    "\n",
    "# Launch the Gradio interface\n",
    "gr_iface.launch()"
   ]
  },
  {
   "cell_type": "markdown",
   "id": "e3fa977e-39f5-4e13-a41d-0240e3f90560",
   "metadata": {},
   "source": [
    "## 🚀 Conclusion\n",
    "\n",
    "Congratulations! You've just created an advanced chatbot using LLMs, LangChain, and Gradio. Here's what we've covered:\n",
    "\n",
    "1. We set up a custom LLM that interacts with an API.\n",
    "2. We created a conversation chain with memory to maintain context.\n",
    "3. We implemented Wikipedia scraping and information extraction.\n",
    "4. We used FAISS for efficient vector storage and retrieval.\n",
    "5. We built a user-friendly interface using Gradio.\n",
    "\n",
    "This chatbot can now scrape Wikipedia articles, store the information in a vector database, and answer questions based on the scraped content. It also maintains a conversation memory for more contextual responses.\n",
    "\n",
    "Remember, this is just the beginning! You can further enhance this chatbot by adding more features, improving the information extraction process, or integrating it with other knowledge sources.\n",
    "\n",
    "Happy coding! 🚀🚀"
   ]
  }
 ],
 "metadata": {
  "kernelspec": {
   "display_name": "Python 3 (ipykernel)",
   "language": "python",
   "name": "python3"
  },
  "language_info": {
   "codemirror_mode": {
    "name": "ipython",
    "version": 3
   },
   "file_extension": ".py",
   "mimetype": "text/x-python",
   "name": "python",
   "nbconvert_exporter": "python",
   "pygments_lexer": "ipython3",
   "version": "3.11.9"
  }
 },
 "nbformat": 4,
 "nbformat_minor": 5
}
