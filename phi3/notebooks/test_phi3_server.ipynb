{
 "cells": [
  {
   "cell_type": "code",
   "execution_count": null,
   "id": "initial_id",
   "metadata": {
    "collapsed": true
   },
   "outputs": [],
   "source": [
    "from langchain.llms.base import LLM\n",
    "import requests\n",
    "import json\n",
    "import logging\n",
    "\n",
    "logging.basicConfig(level=logging.INFO)\n",
    "logger = logging.getLogger(__name__)\n",
    "\n",
    "class CustomLLM(LLM):\n",
    "    api_url = \"http://127.0.0.1:8899/v1/completions\"\n",
    "\n",
    "    def _call(\n",
    "        self,\n",
    "        prompt: str,\n",
    "        stop = None,\n",
    "        run_manager = None,\n",
    "    ):\n",
    "        headers = {\n",
    "            \"Content-Type\": \"application/json\"\n",
    "        }\n",
    "        data = {\n",
    "            \"prompt\": prompt,\n",
    "            \"max_tokens\": 150,\n",
    "            \"temperature\": 0.7,\n",
    "            \"top_p\": 1.0,\n",
    "            \"n\": 1,\n",
    "            \"stop\": stop\n",
    "        }\n",
    "        try:\n",
    "            logger.info(f\"Sending prompt to API: {prompt}\")\n",
    "            response = requests.post(self.api_url, headers=headers, data=json.dumps(data))\n",
    "            response.raise_for_status()\n",
    "            result = response.json()['choices'][0]['text']\n",
    "            logger.info(f\"Received response from API: {result}\")\n",
    "            return result\n",
    "        except requests.exceptions.RequestException as e:\n",
    "            logger.error(f\"API request failed: {str(e)}\")\n",
    "            return f\"Sorry, I encountered an error: {str(e)}\"\n",
    "\n",
    "    @property\n",
    "    def _llm_type(self):\n",
    "        return \"custom\"\n",
    "\n",
    "llm = CustomLLM()"
   ]
  }
 ],
 "metadata": {
  "kernelspec": {
   "display_name": "Python 3",
   "language": "python",
   "name": "python3"
  },
  "language_info": {
   "codemirror_mode": {
    "name": "ipython",
    "version": 2
   },
   "file_extension": ".py",
   "mimetype": "text/x-python",
   "name": "python",
   "nbconvert_exporter": "python",
   "pygments_lexer": "ipython2",
   "version": "2.7.6"
  }
 },
 "nbformat": 4,
 "nbformat_minor": 5
}
